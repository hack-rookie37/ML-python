{
 "cells": [
  {
   "cell_type": "code",
   "execution_count": 3,
   "metadata": {},
   "outputs": [],
   "source": [
    "import tensorflow as tf"
   ]
  },
  {
   "cell_type": "code",
   "execution_count": 5,
   "metadata": {},
   "outputs": [],
   "source": [
    "x_data = [[1, 2], [2, 3], [3, 1], [4, 3], [5, 3], [6,2]]\n",
    "y_data = [[0], [0], [0], [1], [1], [1]]"
   ]
  },
  {
   "cell_type": "code",
   "execution_count": 6,
   "metadata": {},
   "outputs": [],
   "source": [
    "X = tf.placeholder(tf.float32, shape=[None, 2])\n",
    "Y = tf.placeholder(tf.float32, shape=[None, 1])"
   ]
  },
  {
   "cell_type": "code",
   "execution_count": 7,
   "metadata": {},
   "outputs": [],
   "source": [
    "W = tf.Variable(tf.random_normal([2, 1]), name='weight')\n",
    "b = tf.Variable(tf.random_normal([1]), name='bias')"
   ]
  },
  {
   "cell_type": "code",
   "execution_count": 8,
   "metadata": {},
   "outputs": [],
   "source": [
    "hypothesis = tf.sigmoid(tf.matmul(X, W) + b)"
   ]
  },
  {
   "cell_type": "code",
   "execution_count": 9,
   "metadata": {},
   "outputs": [],
   "source": [
    "cost = -tf.reduce_mean(Y * tf.log(hypothesis) + (1 - Y) * tf.log(1 - hypothesis))"
   ]
  },
  {
   "cell_type": "code",
   "execution_count": 25,
   "metadata": {},
   "outputs": [],
   "source": [
    "train = tf.train.GradientDescentOptimizer(learning_rate=0.01).minimize(cost)"
   ]
  },
  {
   "cell_type": "code",
   "execution_count": 26,
   "metadata": {},
   "outputs": [],
   "source": [
    "predicted = tf.cast(hypothesis > 0.5, dtype=tf.float32)\n",
    "accuracy = tf.reduce_mean(tf.cast(tf.equal(predicted, Y), dtype=tf.float32))"
   ]
  },
  {
   "cell_type": "code",
   "execution_count": 29,
   "metadata": {},
   "outputs": [
    {
     "name": "stdout",
     "output_type": "stream",
     "text": [
      "0 0.88614804\n",
      "200 0.4790349\n",
      "400 0.46166074\n",
      "600 0.4452903\n",
      "800 0.42981026\n",
      "1000 0.41514716\n",
      "1200 0.40124145\n",
      "1400 0.38804373\n",
      "1600 0.37551078\n",
      "1800 0.36360464\n",
      "2000 0.3522899\n",
      "2200 0.34153387\n",
      "2400 0.33130583\n",
      "2600 0.32157645\n",
      "2800 0.31231797\n",
      "3000 0.30350402\n",
      "3200 0.29510954\n",
      "3400 0.2871108\n",
      "3600 0.27948534\n",
      "3800 0.2722119\n",
      "4000 0.26527044\n",
      "4200 0.2586419\n",
      "4400 0.25230855\n",
      "4600 0.24625373\n",
      "4800 0.24046165\n",
      "5000 0.23491742\n",
      "5200 0.22960722\n",
      "5400 0.22451802\n",
      "5600 0.21963783\n",
      "5800 0.21495493\n",
      "6000 0.21045883\n",
      "6200 0.20613933\n",
      "6400 0.20198703\n",
      "6600 0.1979932\n",
      "6800 0.19414945\n",
      "7000 0.19044818\n",
      "7200 0.186882\n",
      "7400 0.18344398\n",
      "7600 0.18012793\n",
      "7800 0.17692773\n",
      "8000 0.17383762\n",
      "8200 0.17085242\n",
      "8400 0.16796698\n",
      "8600 0.16517672\n",
      "8800 0.16247709\n",
      "9000 0.15986398\n",
      "9200 0.1573333\n",
      "9400 0.15488149\n",
      "9600 0.15250501\n",
      "9800 0.15020053\n",
      "10000 0.14796497\n",
      "\n",
      "Hypothesis:  [[0.03009859]\n",
      " [0.15796596]\n",
      " [0.30178702]\n",
      " [0.7827934 ]\n",
      " [0.9404616 ]\n",
      " [0.98046726]] \n",
      "Correct (Y):  [[0.]\n",
      " [0.]\n",
      " [0.]\n",
      " [1.]\n",
      " [1.]\n",
      " [1.]] \n",
      "Accuracy:  1.0\n"
     ]
    }
   ],
   "source": [
    "with tf.Session() as sess:\n",
    "    sess.run(tf.global_variables_initializer())\n",
    "    \n",
    "    for step in range(10001):\n",
    "        cost_val, _ = sess.run([cost, train], feed_dict={X: x_data, Y: y_data})\n",
    "        if step % 200 == 0:\n",
    "            print(step, cost_val)\n",
    "    h, c, a = sess.run([hypothesis, predicted, accuracy],\n",
    "                  feed_dict={X: x_data, Y: y_data})\n",
    "    print(\"\\nHypothesis: \", h, \"\\nCorrect (Y): \", c, \"\\nAccuracy: \", a)"
   ]
  }
 ],
 "metadata": {
  "kernelspec": {
   "display_name": "Python 3",
   "language": "python",
   "name": "python3"
  },
  "language_info": {
   "codemirror_mode": {
    "name": "ipython",
    "version": 3
   },
   "file_extension": ".py",
   "mimetype": "text/x-python",
   "name": "python",
   "nbconvert_exporter": "python",
   "pygments_lexer": "ipython3",
   "version": "3.7.3"
  }
 },
 "nbformat": 4,
 "nbformat_minor": 2
}
